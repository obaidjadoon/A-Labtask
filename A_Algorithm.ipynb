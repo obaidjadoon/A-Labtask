{
  "nbformat": 4,
  "nbformat_minor": 0,
  "metadata": {
    "colab": {
      "provenance": []
    },
    "kernelspec": {
      "name": "python3",
      "display_name": "Python 3"
    },
    "language_info": {
      "name": "python"
    }
  },
  "cells": [
    {
      "cell_type": "code",
      "execution_count": 10,
      "metadata": {
        "colab": {
          "base_uri": "https://localhost:8080/"
        },
        "id": "toCLEzviFGUy",
        "outputId": "5cc0d6ef-7bba-49b1-8a3f-23dd7bf41614"
      },
      "outputs": [
        {
          "output_type": "stream",
          "name": "stdout",
          "text": [
            "A* path: ['Lahore', 'Faisalabad', 'Multan', 'Karachi']\n",
            "Total cost: 1350\n"
          ]
        }
      ],
      "source": [
        "import heapq   # priority queue\n",
        "\n",
        "# 🔹 Updated weighted graph with different distances\n",
        "graph = {\n",
        "    \"Lahore\": {\"Islamabad\": 280, \"Faisalabad\": 200},\n",
        "    \"Islamabad\": {\"Lahore\": 280, \"Peshawar\": 170},\n",
        "    \"Faisalabad\": {\"Lahore\": 200, \"Multan\": 250},\n",
        "    \"Multan\": {\"Faisalabad\": 250, \"Karachi\": 900},\n",
        "    \"Peshawar\": {\"Islamabad\": 170},\n",
        "    \"Karachi\": {\"Multan\": 900}\n",
        "}\n",
        "\n",
        "# 🔹 Updated heuristic values (closer estimates to Karachi)\n",
        "heuristic = {\n",
        "    \"Lahore\": 1250,\n",
        "    \"Islamabad\": 1150,\n",
        "    \"Faisalabad\": 1100,\n",
        "    \"Multan\": 900,\n",
        "    \"Peshawar\": 1270,\n",
        "    \"Karachi\": 0\n",
        "}\n",
        "\n",
        "def a_star(graph, start, goal, heuristic):\n",
        "    open_list = []\n",
        "    heapq.heappush(open_list, (heuristic[start], [start]))\n",
        "    g_costs = {start: 0}\n",
        "    closed_set = set()\n",
        "\n",
        "    while open_list:\n",
        "        f, path = heapq.heappop(open_list)\n",
        "        node = path[-1]\n",
        "\n",
        "        if node == goal:\n",
        "            return path, g_costs[node]\n",
        "\n",
        "        if node in closed_set:\n",
        "            continue\n",
        "\n",
        "        closed_set.add(node)\n",
        "\n",
        "        for neighbor, cost in graph[node].items():\n",
        "            tentative_g = g_costs[node] + cost\n",
        "            if neighbor not in g_costs or tentative_g < g_costs[neighbor]:\n",
        "                g_costs[neighbor] = tentative_g\n",
        "                f_cost = tentative_g + heuristic.get(neighbor, float('inf'))\n",
        "                new_path = path + [neighbor]\n",
        "                heapq.heappush(open_list, (f_cost, new_path))\n",
        "\n",
        "    return None, float('inf')\n",
        "\n",
        "\n",
        "# ✅ Example run\n",
        "if __name__ == \"__main__\":\n",
        "    start_city = \"Lahore\"\n",
        "    goal_city = \"Karachi\"\n",
        "    path, cost = a_star(graph, start_city, goal_city, heuristic)\n",
        "    print(\"A* path:\", path)\n",
        "    print(\"Total cost:\", cost)\n"
      ]
    }
  ]
}